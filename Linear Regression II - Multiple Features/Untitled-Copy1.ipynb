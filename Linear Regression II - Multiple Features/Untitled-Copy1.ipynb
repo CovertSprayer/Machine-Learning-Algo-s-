{
 "cells": [
  {
   "cell_type": "code",
   "execution_count": 1,
   "id": "f7dbec5e",
   "metadata": {},
   "outputs": [],
   "source": [
    "import numpy as np\n",
    "import pandas as pd\n",
    "from sklearn.datasets import make_regression"
   ]
  },
  {
   "cell_type": "code",
   "execution_count": 2,
   "id": "e8d11a57",
   "metadata": {},
   "outputs": [
    {
     "data": {
      "text/plain": [
       "((1000, 8), (1000,))"
      ]
     },
     "execution_count": 2,
     "metadata": {},
     "output_type": "execute_result"
    }
   ],
   "source": [
    "X,y = make_regression(n_samples=1000, n_features=8, n_informative=1,noise=10,random_state=1)\n",
    "\n",
    "X.shape, y.shape"
   ]
  },
  {
   "cell_type": "code",
   "execution_count": null,
   "id": "f2d541cb",
   "metadata": {
    "scrolled": false
   },
   "outputs": [],
   "source": []
  },
  {
   "cell_type": "code",
   "execution_count": 3,
   "id": "078cb074",
   "metadata": {},
   "outputs": [
    {
     "data": {
      "text/html": [
       "<div>\n",
       "<style scoped>\n",
       "    .dataframe tbody tr th:only-of-type {\n",
       "        vertical-align: middle;\n",
       "    }\n",
       "\n",
       "    .dataframe tbody tr th {\n",
       "        vertical-align: top;\n",
       "    }\n",
       "\n",
       "    .dataframe thead th {\n",
       "        text-align: right;\n",
       "    }\n",
       "</style>\n",
       "<table border=\"1\" class=\"dataframe\">\n",
       "  <thead>\n",
       "    <tr style=\"text-align: right;\">\n",
       "      <th></th>\n",
       "      <th>0</th>\n",
       "      <th>1</th>\n",
       "      <th>2</th>\n",
       "      <th>3</th>\n",
       "      <th>4</th>\n",
       "      <th>5</th>\n",
       "      <th>6</th>\n",
       "      <th>7</th>\n",
       "    </tr>\n",
       "  </thead>\n",
       "  <tbody>\n",
       "    <tr>\n",
       "      <th>0</th>\n",
       "      <td>2.234722</td>\n",
       "      <td>-0.134249</td>\n",
       "      <td>0.423003</td>\n",
       "      <td>0.046846</td>\n",
       "      <td>-0.185811</td>\n",
       "      <td>-1.787738</td>\n",
       "      <td>-0.438055</td>\n",
       "      <td>0.290788</td>\n",
       "    </tr>\n",
       "    <tr>\n",
       "      <th>1</th>\n",
       "      <td>0.532064</td>\n",
       "      <td>-0.036220</td>\n",
       "      <td>-0.360056</td>\n",
       "      <td>1.122365</td>\n",
       "      <td>-0.236285</td>\n",
       "      <td>-1.483654</td>\n",
       "      <td>1.970293</td>\n",
       "      <td>0.591212</td>\n",
       "    </tr>\n",
       "    <tr>\n",
       "      <th>2</th>\n",
       "      <td>0.597946</td>\n",
       "      <td>-2.076691</td>\n",
       "      <td>0.640464</td>\n",
       "      <td>-0.584668</td>\n",
       "      <td>0.541948</td>\n",
       "      <td>0.320536</td>\n",
       "      <td>0.585493</td>\n",
       "      <td>0.592993</td>\n",
       "    </tr>\n",
       "    <tr>\n",
       "      <th>3</th>\n",
       "      <td>-0.564872</td>\n",
       "      <td>-0.510603</td>\n",
       "      <td>0.644545</td>\n",
       "      <td>0.294419</td>\n",
       "      <td>2.192959</td>\n",
       "      <td>-0.357765</td>\n",
       "      <td>1.027627</td>\n",
       "      <td>-0.805408</td>\n",
       "    </tr>\n",
       "    <tr>\n",
       "      <th>4</th>\n",
       "      <td>1.362797</td>\n",
       "      <td>-0.311720</td>\n",
       "      <td>-0.210229</td>\n",
       "      <td>-0.581775</td>\n",
       "      <td>-1.226492</td>\n",
       "      <td>0.957538</td>\n",
       "      <td>-0.906642</td>\n",
       "      <td>-0.089283</td>\n",
       "    </tr>\n",
       "    <tr>\n",
       "      <th>...</th>\n",
       "      <td>...</td>\n",
       "      <td>...</td>\n",
       "      <td>...</td>\n",
       "      <td>...</td>\n",
       "      <td>...</td>\n",
       "      <td>...</td>\n",
       "      <td>...</td>\n",
       "      <td>...</td>\n",
       "    </tr>\n",
       "    <tr>\n",
       "      <th>995</th>\n",
       "      <td>1.618226</td>\n",
       "      <td>-1.119273</td>\n",
       "      <td>1.428692</td>\n",
       "      <td>-1.462844</td>\n",
       "      <td>1.222940</td>\n",
       "      <td>-2.156295</td>\n",
       "      <td>-0.494417</td>\n",
       "      <td>-0.620102</td>\n",
       "    </tr>\n",
       "    <tr>\n",
       "      <th>996</th>\n",
       "      <td>-0.251674</td>\n",
       "      <td>1.409253</td>\n",
       "      <td>0.636583</td>\n",
       "      <td>0.382715</td>\n",
       "      <td>-0.806185</td>\n",
       "      <td>1.620912</td>\n",
       "      <td>-0.391816</td>\n",
       "      <td>-0.288997</td>\n",
       "    </tr>\n",
       "    <tr>\n",
       "      <th>997</th>\n",
       "      <td>2.215843</td>\n",
       "      <td>-0.740963</td>\n",
       "      <td>-0.453105</td>\n",
       "      <td>0.826477</td>\n",
       "      <td>1.072931</td>\n",
       "      <td>0.136104</td>\n",
       "      <td>-1.427016</td>\n",
       "      <td>-0.961364</td>\n",
       "    </tr>\n",
       "    <tr>\n",
       "      <th>998</th>\n",
       "      <td>-1.033310</td>\n",
       "      <td>0.992711</td>\n",
       "      <td>0.254970</td>\n",
       "      <td>-0.187095</td>\n",
       "      <td>-0.531280</td>\n",
       "      <td>1.069917</td>\n",
       "      <td>0.680776</td>\n",
       "      <td>1.896016</td>\n",
       "    </tr>\n",
       "    <tr>\n",
       "      <th>999</th>\n",
       "      <td>-0.816293</td>\n",
       "      <td>-1.141416</td>\n",
       "      <td>2.338143</td>\n",
       "      <td>1.424365</td>\n",
       "      <td>0.823185</td>\n",
       "      <td>2.095819</td>\n",
       "      <td>1.124703</td>\n",
       "      <td>-1.445851</td>\n",
       "    </tr>\n",
       "  </tbody>\n",
       "</table>\n",
       "<p>1000 rows × 8 columns</p>\n",
       "</div>"
      ],
      "text/plain": [
       "            0         1         2         3         4         5         6  \\\n",
       "0    2.234722 -0.134249  0.423003  0.046846 -0.185811 -1.787738 -0.438055   \n",
       "1    0.532064 -0.036220 -0.360056  1.122365 -0.236285 -1.483654  1.970293   \n",
       "2    0.597946 -2.076691  0.640464 -0.584668  0.541948  0.320536  0.585493   \n",
       "3   -0.564872 -0.510603  0.644545  0.294419  2.192959 -0.357765  1.027627   \n",
       "4    1.362797 -0.311720 -0.210229 -0.581775 -1.226492  0.957538 -0.906642   \n",
       "..        ...       ...       ...       ...       ...       ...       ...   \n",
       "995  1.618226 -1.119273  1.428692 -1.462844  1.222940 -2.156295 -0.494417   \n",
       "996 -0.251674  1.409253  0.636583  0.382715 -0.806185  1.620912 -0.391816   \n",
       "997  2.215843 -0.740963 -0.453105  0.826477  1.072931  0.136104 -1.427016   \n",
       "998 -1.033310  0.992711  0.254970 -0.187095 -0.531280  1.069917  0.680776   \n",
       "999 -0.816293 -1.141416  2.338143  1.424365  0.823185  2.095819  1.124703   \n",
       "\n",
       "            7  \n",
       "0    0.290788  \n",
       "1    0.591212  \n",
       "2    0.592993  \n",
       "3   -0.805408  \n",
       "4   -0.089283  \n",
       "..        ...  \n",
       "995 -0.620102  \n",
       "996 -0.288997  \n",
       "997 -0.961364  \n",
       "998  1.896016  \n",
       "999 -1.445851  \n",
       "\n",
       "[1000 rows x 8 columns]"
      ]
     },
     "execution_count": 3,
     "metadata": {},
     "output_type": "execute_result"
    }
   ],
   "source": [
    "df = pd.DataFrame(X)\n",
    "df"
   ]
  },
  {
   "cell_type": "code",
   "execution_count": 4,
   "id": "47f72c16",
   "metadata": {},
   "outputs": [
    {
     "data": {
      "text/html": [
       "<div>\n",
       "<style scoped>\n",
       "    .dataframe tbody tr th:only-of-type {\n",
       "        vertical-align: middle;\n",
       "    }\n",
       "\n",
       "    .dataframe tbody tr th {\n",
       "        vertical-align: top;\n",
       "    }\n",
       "\n",
       "    .dataframe thead th {\n",
       "        text-align: right;\n",
       "    }\n",
       "</style>\n",
       "<table border=\"1\" class=\"dataframe\">\n",
       "  <thead>\n",
       "    <tr style=\"text-align: right;\">\n",
       "      <th></th>\n",
       "      <th>0</th>\n",
       "      <th>1</th>\n",
       "      <th>2</th>\n",
       "      <th>3</th>\n",
       "      <th>4</th>\n",
       "      <th>5</th>\n",
       "      <th>6</th>\n",
       "      <th>7</th>\n",
       "    </tr>\n",
       "  </thead>\n",
       "  <tbody>\n",
       "    <tr>\n",
       "      <th>count</th>\n",
       "      <td>1000.000000</td>\n",
       "      <td>1000.000000</td>\n",
       "      <td>1000.000000</td>\n",
       "      <td>1000.000000</td>\n",
       "      <td>1000.000000</td>\n",
       "      <td>1000.000000</td>\n",
       "      <td>1000.000000</td>\n",
       "      <td>1000.000000</td>\n",
       "    </tr>\n",
       "    <tr>\n",
       "      <th>mean</th>\n",
       "      <td>-0.003916</td>\n",
       "      <td>-0.035525</td>\n",
       "      <td>0.051359</td>\n",
       "      <td>-0.038292</td>\n",
       "      <td>0.031903</td>\n",
       "      <td>0.059821</td>\n",
       "      <td>0.024484</td>\n",
       "      <td>-0.041748</td>\n",
       "    </tr>\n",
       "    <tr>\n",
       "      <th>std</th>\n",
       "      <td>1.052536</td>\n",
       "      <td>0.982364</td>\n",
       "      <td>1.000371</td>\n",
       "      <td>0.976799</td>\n",
       "      <td>1.005113</td>\n",
       "      <td>0.993466</td>\n",
       "      <td>1.003519</td>\n",
       "      <td>0.973628</td>\n",
       "    </tr>\n",
       "    <tr>\n",
       "      <th>min</th>\n",
       "      <td>-3.064141</td>\n",
       "      <td>-3.016032</td>\n",
       "      <td>-3.294858</td>\n",
       "      <td>-2.790996</td>\n",
       "      <td>-3.190616</td>\n",
       "      <td>-2.872050</td>\n",
       "      <td>-3.153357</td>\n",
       "      <td>-2.984836</td>\n",
       "    </tr>\n",
       "    <tr>\n",
       "      <th>25%</th>\n",
       "      <td>-0.700934</td>\n",
       "      <td>-0.720224</td>\n",
       "      <td>-0.583251</td>\n",
       "      <td>-0.681221</td>\n",
       "      <td>-0.630374</td>\n",
       "      <td>-0.608130</td>\n",
       "      <td>-0.655885</td>\n",
       "      <td>-0.700274</td>\n",
       "    </tr>\n",
       "    <tr>\n",
       "      <th>50%</th>\n",
       "      <td>-0.036871</td>\n",
       "      <td>-0.046502</td>\n",
       "      <td>0.099387</td>\n",
       "      <td>-0.055306</td>\n",
       "      <td>0.044438</td>\n",
       "      <td>0.080484</td>\n",
       "      <td>0.029715</td>\n",
       "      <td>-0.047788</td>\n",
       "    </tr>\n",
       "    <tr>\n",
       "      <th>75%</th>\n",
       "      <td>0.677896</td>\n",
       "      <td>0.573496</td>\n",
       "      <td>0.689411</td>\n",
       "      <td>0.645226</td>\n",
       "      <td>0.696570</td>\n",
       "      <td>0.712258</td>\n",
       "      <td>0.699650</td>\n",
       "      <td>0.587767</td>\n",
       "    </tr>\n",
       "    <tr>\n",
       "      <th>max</th>\n",
       "      <td>3.404302</td>\n",
       "      <td>3.432663</td>\n",
       "      <td>3.238343</td>\n",
       "      <td>3.958603</td>\n",
       "      <td>4.026849</td>\n",
       "      <td>3.118480</td>\n",
       "      <td>2.893593</td>\n",
       "      <td>3.135047</td>\n",
       "    </tr>\n",
       "  </tbody>\n",
       "</table>\n",
       "</div>"
      ],
      "text/plain": [
       "                 0            1            2            3            4  \\\n",
       "count  1000.000000  1000.000000  1000.000000  1000.000000  1000.000000   \n",
       "mean     -0.003916    -0.035525     0.051359    -0.038292     0.031903   \n",
       "std       1.052536     0.982364     1.000371     0.976799     1.005113   \n",
       "min      -3.064141    -3.016032    -3.294858    -2.790996    -3.190616   \n",
       "25%      -0.700934    -0.720224    -0.583251    -0.681221    -0.630374   \n",
       "50%      -0.036871    -0.046502     0.099387    -0.055306     0.044438   \n",
       "75%       0.677896     0.573496     0.689411     0.645226     0.696570   \n",
       "max       3.404302     3.432663     3.238343     3.958603     4.026849   \n",
       "\n",
       "                 5            6            7  \n",
       "count  1000.000000  1000.000000  1000.000000  \n",
       "mean      0.059821     0.024484    -0.041748  \n",
       "std       0.993466     1.003519     0.973628  \n",
       "min      -2.872050    -3.153357    -2.984836  \n",
       "25%      -0.608130    -0.655885    -0.700274  \n",
       "50%       0.080484     0.029715    -0.047788  \n",
       "75%       0.712258     0.699650     0.587767  \n",
       "max       3.118480     2.893593     3.135047  "
      ]
     },
     "execution_count": 4,
     "metadata": {},
     "output_type": "execute_result"
    }
   ],
   "source": [
    "df.describe()"
   ]
  },
  {
   "cell_type": "code",
   "execution_count": 5,
   "id": "d3df9f7e",
   "metadata": {},
   "outputs": [
    {
     "data": {
      "text/plain": [
       "<matplotlib.collections.PathCollection at 0x28c91fe0190>"
      ]
     },
     "execution_count": 5,
     "metadata": {},
     "output_type": "execute_result"
    },
    {
     "data": {
      "image/png": "[encoded data removed]",
      "text/plain": [
       "<Figure size 640x480 with 2 Axes>"
      ]
     },
     "metadata": {},
     "output_type": "display_data"
    }
   ],
   "source": [
    "import matplotlib.pyplot as plt\n",
    "plt.subplot(1,2,1)\n",
    "plt.scatter(X[:,4],y)\n",
    "\n",
    "plt.subplot(1,2,2)\n",
    "plt.scatter(X[:,2],y)\n"
   ]
  },
  {
   "cell_type": "code",
   "execution_count": 6,
   "id": "f9124566",
   "metadata": {},
   "outputs": [
    {
     "data": {
      "text/plain": [
       "((1000, 8), (1000,))"
      ]
     },
     "execution_count": 6,
     "metadata": {},
     "output_type": "execute_result"
    }
   ],
   "source": [
    "X.shape, y.shape"
   ]
  },
  {
   "cell_type": "code",
   "execution_count": 7,
   "id": "d0440591",
   "metadata": {},
   "outputs": [
    {
     "data": {
      "text/plain": [
       "array([[ 1.        ,  2.23472174, -0.13424856, ..., -1.78773771,\n",
       "        -0.43805451,  0.29078795],\n",
       "       [ 1.        ,  0.53206401, -0.03622003, ..., -1.48365447,\n",
       "         1.97029256,  0.59121169],\n",
       "       [ 1.        ,  0.59794564, -2.07669128, ...,  0.32053559,\n",
       "         0.58549275,  0.59299291],\n",
       "       ...,\n",
       "       [ 1.        ,  2.21584334, -0.74096334, ...,  0.13610446,\n",
       "        -1.42701563, -0.9613638 ],\n",
       "       [ 1.        , -1.03330964,  0.99271079, ...,  1.06991674,\n",
       "         0.68077642,  1.89601571],\n",
       "       [ 1.        , -0.81629265, -1.14141636, ...,  2.09581941,\n",
       "         1.12470319, -1.44585088]])"
      ]
     },
     "execution_count": 7,
     "metadata": {},
     "output_type": "execute_result"
    }
   ],
   "source": [
    "ones = np.ones((X.shape[0],1))\n",
    "df = pd.DataFrame(X)\n",
    "df.insert(0,'0',value=ones)\n",
    "df\n",
    "X=df.values\n",
    "X"
   ]
  },
  {
   "cell_type": "code",
   "execution_count": 8,
   "id": "6398f30e",
   "metadata": {},
   "outputs": [
    {
     "data": {
      "text/plain": [
       "(1000, 9)"
      ]
     },
     "execution_count": 8,
     "metadata": {},
     "output_type": "execute_result"
    }
   ],
   "source": [
    "X.shape"
   ]
  },
  {
   "cell_type": "code",
   "execution_count": 9,
   "id": "4d1f9e33",
   "metadata": {},
   "outputs": [],
   "source": [
    "def hypothesis(x,theta):\n",
    "    y_ = 0.0\n",
    "    m = x.shape[0]\n",
    "    \n",
    "    for i in range(m):\n",
    "        y_ += theta[i]*x[i]\n",
    "    \n",
    "    return y_\n",
    "\n",
    "def error(X,y,theta):\n",
    "    e = 0.0\n",
    "    m = X.shape[0]\n",
    "    \n",
    "    for i in range(m):\n",
    "        y_ = hypothesis(X[i], theta)\n",
    "        e += (y_ - y[i])**2\n",
    "        \n",
    "    return e/m\n",
    "\n",
    "        \n",
    "def gradient(X,y,theta):\n",
    "    m,n = X.shape\n",
    "    grad = np.zeros((n,))\n",
    "    \n",
    "    for j in range(n):\n",
    "        for i in range(m):\n",
    "            y_ = hypothesis(X[i],theta)\n",
    "            grad[j] += (y_ - y[i])*X[i][j]\n",
    "    \n",
    "    return grad/m\n",
    "\n",
    "def gradient_descent(X,y,max_steps=100,learning_rate=0.1):\n",
    "    \n",
    "    m,n = X.shape\n",
    "    theta = np.zeros((n,))\n",
    "    error_list = []\n",
    "    \n",
    "    for i in range(max_steps):\n",
    "        e = error(X,y,theta)\n",
    "        error_list.append(e)\n",
    "        \n",
    "        grad = gradient(X,y,theta)\n",
    "        \n",
    "        for j in range(n):\n",
    "            theta[j] = theta[j] - learning_rate*grad[j]\n",
    "    \n",
    "    return theta, error_list"
   ]
  },
  {
   "cell_type": "code",
   "execution_count": 10,
   "id": "24604c32",
   "metadata": {},
   "outputs": [],
   "source": [
    "theta, error_list = gradient_descent(X,y)"
   ]
  },
  {
   "cell_type": "code",
   "execution_count": 11,
   "id": "5f136f2c",
   "metadata": {},
   "outputs": [
    {
     "name": "stdout",
     "output_type": "stream",
     "text": [
      "[ 0.21325314 -0.25473313  0.40722759 45.13128416  0.0965365  -0.09731314\n",
      " -0.16886269  0.30136163 -0.09783491]\n"
     ]
    }
   ],
   "source": [
    "print(theta)"
   ]
  },
  {
   "cell_type": "code",
   "execution_count": 12,
   "id": "cdecde1a",
   "metadata": {},
   "outputs": [
    {
     "data": {
      "text/plain": [
       "[<matplotlib.lines.Line2D at 0x28c9222a290>]"
      ]
     },
     "execution_count": 12,
     "metadata": {},
     "output_type": "execute_result"
    },
    {
     "data": {
      "image/png": "[encoded data removed]",
      "text/plain": [
       "<Figure size 640x480 with 1 Axes>"
      ]
     },
     "metadata": {},
     "output_type": "display_data"
    }
   ],
   "source": [
    "plt.plot(error_list)"
   ]
  },
  {
   "cell_type": "code",
   "execution_count": 13,
   "id": "f774533d",
   "metadata": {},
   "outputs": [],
   "source": [
    "def r2_score(Y, Y_):\n",
    "    num = np.sum((y-y_)**2)\n",
    "    denom = np.sum((Y-Y.mean())**2)\n",
    "    score = 1-num/denom\n",
    "    return score*100"
   ]
  },
  {
   "cell_type": "code",
   "execution_count": 22,
   "id": "607c4bb2",
   "metadata": {},
   "outputs": [],
   "source": [
    "y_ = []\n",
    "m = X.shape[0]\n",
    "for i in range(m):\n",
    "    pred = hypothesis(X[i], theta)\n",
    "    y_.append(pred)\n",
    "    \n",
    "y_ = np.array(y_)"
   ]
  },
  {
   "cell_type": "code",
   "execution_count": 24,
   "id": "9c806a70",
   "metadata": {},
   "outputs": [
    {
     "data": {
      "text/plain": [
       "94.8690986210025"
      ]
     },
     "execution_count": 24,
     "metadata": {},
     "output_type": "execute_result"
    }
   ],
   "source": [
    "r2_score(y,y_)"
   ]
  },
  {
   "cell_type": "code",
   "execution_count": null,
   "id": "947670fa",
   "metadata": {},
   "outputs": [],
   "source": []
  }
 ],
 "metadata": {
  "kernelspec": {
   "display_name": "Python 3 (ipykernel)",
   "language": "python",
   "name": "python3"
  },
  "language_info": {
   "codemirror_mode": {
    "name": "ipython",
    "version": 3
   },
   "file_extension": ".py",
   "mimetype": "text/x-python",
   "name": "python",
   "nbconvert_exporter": "python",
   "pygments_lexer": "ipython3",
   "version": "3.10.7"
  }
 },
 "nbformat": 4,
 "nbformat_minor": 5
}
